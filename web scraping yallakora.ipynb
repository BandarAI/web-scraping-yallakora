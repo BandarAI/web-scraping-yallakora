{
 "cells": [
  {
   "cell_type": "markdown",
   "metadata": {},
   "source": [
    "# Import Libraries"
   ]
  },
  {
   "cell_type": "code",
   "execution_count": 1,
   "metadata": {},
   "outputs": [],
   "source": [
    "import requests\n",
    "from bs4 import BeautifulSoup\n",
    "import csv\n",
    "import pandas as pd"
   ]
  },
  {
   "cell_type": "code",
   "execution_count": 2,
   "metadata": {},
   "outputs": [],
   "source": [
    "# month = input(\"enter: \")\n",
    "# day = input(\"enter: \")\n",
    "# year = input(\"enter: \")\n",
    "\n",
    "\n",
    "page = requests.get(f\"https://www.yallakora.com/match-center/%d9%85%d8%b1%d9%83%d8%b2-%d8%a7%d9%84%d9%85%d8%a8%d8%a7%d8%b1%d9%8a%d8%a7%d8%aa?date=9/28/2024#\")\n",
    "# page = requests.get(f\"https://www.yallakora.com/match-center/%d9%85%d8%b1%d9%83%d8%b2-%d8%a7%d9%84%d9%85%d8%a8%d8%a7%d8%b1%d9%8a%d8%a7%d8%aa?date={month}/{day}/{year}#\")\n",
    "\n",
    "src = page.content\n",
    "soup = BeautifulSoup(src, \"lxml\")\n",
    "    \n",
    "matches_details = []\n",
    "\n",
    "#------------------------------------------------v change this value\n",
    "championships = soup.find_all(\"div\", {'class': '2929 matchCard matchesList'})"
   ]
  },
  {
   "cell_type": "code",
   "execution_count": 3,
   "metadata": {},
   "outputs": [
    {
     "name": "stdout",
     "output_type": "stream",
     "text": [
      "الدوري البرتغالي\n"
     ]
    }
   ],
   "source": [
    "championship_title = championships[0].find(\"h2\").text.strip()\n",
    "print(championship_title)"
   ]
  },
  {
   "cell_type": "code",
   "execution_count": 4,
   "metadata": {},
   "outputs": [
    {
     "name": "stdout",
     "output_type": "stream",
     "text": [
      "[{'league title': 'الدوري البرتغالي', 'team a': 'إستريلا', 'score a': '2', 'score b': '1', 'team b': 'موريرنسي'}, {'league title': 'الدوري البرتغالي', 'team a': 'كازا بيا', 'score a': '1', 'score b': '1', 'team b': 'فيتوريا جيماريش'}, {'league title': 'الدوري البرتغالي', 'team a': 'بنفيكا', 'score a': '5', 'score b': '1', 'team b': 'جل فيسنتي'}]\n"
     ]
    }
   ],
   "source": [
    "all_matches = championships[0].find_all(\"div\", {'class': 'ul'})\n",
    "\n",
    "for match_div in all_matches:\n",
    "    match_items = match_div.find_all(\"div\", {\"class\": \"item finish liItem\"})\n",
    "    #print(len(match_items))\n",
    "\n",
    "for item in match_items:\n",
    "    #get teams name\n",
    "    teams_data = item.find(\"div\", {\"class\": \"teamsData\"})\n",
    "    team_a = teams_data.find(\"div\", {\"class\": \"teams teamA\"}).text.strip()\n",
    "    team_b = teams_data.find(\"div\", {\"class\": \"teams teamB\"}).text.strip()\n",
    "    #print(team_a ,\"vs\", team_b)\n",
    "\n",
    "    #gets score\n",
    "    scores_data = teams_data.find(\"div\", {\"class\": \"MResult\"}).find_all('span', {\"class\": \"score\"})\n",
    "    score_a = f\"{scores_data[0].text.strip()}\"\n",
    "    score_b = f\"{scores_data[1].text.strip()}\"\n",
    "    #print(score_a, \"vs\", score_b)\n",
    "\n",
    "    #add match info to matches_details\n",
    "    matches_details.append({\n",
    "    \"league title\": championship_title,\n",
    "    \"team a\": team_a,\n",
    "    \"score a\": score_a,\n",
    "    \"score b\": score_b,\n",
    "    \"team b\": team_b,\n",
    "})\n",
    "\n",
    "\n",
    "\n",
    "print(matches_details)"
   ]
  },
  {
   "cell_type": "code",
   "execution_count": 5,
   "metadata": {},
   "outputs": [
    {
     "data": {
      "text/html": [
       "<div>\n",
       "<style scoped>\n",
       "    .dataframe tbody tr th:only-of-type {\n",
       "        vertical-align: middle;\n",
       "    }\n",
       "\n",
       "    .dataframe tbody tr th {\n",
       "        vertical-align: top;\n",
       "    }\n",
       "\n",
       "    .dataframe thead th {\n",
       "        text-align: right;\n",
       "    }\n",
       "</style>\n",
       "<table border=\"1\" class=\"dataframe\">\n",
       "  <thead>\n",
       "    <tr style=\"text-align: right;\">\n",
       "      <th></th>\n",
       "      <th>league title</th>\n",
       "      <th>team a</th>\n",
       "      <th>score a</th>\n",
       "      <th>score b</th>\n",
       "      <th>team b</th>\n",
       "    </tr>\n",
       "  </thead>\n",
       "  <tbody>\n",
       "    <tr>\n",
       "      <th>0</th>\n",
       "      <td>الدوري البرتغالي</td>\n",
       "      <td>إستريلا</td>\n",
       "      <td>2</td>\n",
       "      <td>1</td>\n",
       "      <td>موريرنسي</td>\n",
       "    </tr>\n",
       "    <tr>\n",
       "      <th>1</th>\n",
       "      <td>الدوري البرتغالي</td>\n",
       "      <td>كازا بيا</td>\n",
       "      <td>1</td>\n",
       "      <td>1</td>\n",
       "      <td>فيتوريا جيماريش</td>\n",
       "    </tr>\n",
       "    <tr>\n",
       "      <th>2</th>\n",
       "      <td>الدوري البرتغالي</td>\n",
       "      <td>بنفيكا</td>\n",
       "      <td>5</td>\n",
       "      <td>1</td>\n",
       "      <td>جل فيسنتي</td>\n",
       "    </tr>\n",
       "  </tbody>\n",
       "</table>\n",
       "</div>"
      ],
      "text/plain": [
       "       league title    team a score a score b           team b\n",
       "0  الدوري البرتغالي   إستريلا       2       1         موريرنسي\n",
       "1  الدوري البرتغالي  كازا بيا       1       1  فيتوريا جيماريش\n",
       "2  الدوري البرتغالي    بنفيكا       5       1        جل فيسنتي"
      ]
     },
     "execution_count": 5,
     "metadata": {},
     "output_type": "execute_result"
    }
   ],
   "source": [
    "matches_df = pd.DataFrame(matches_details)\n",
    "matches_df"
   ]
  },
  {
   "cell_type": "code",
   "execution_count": 6,
   "metadata": {},
   "outputs": [],
   "source": [
    "matches_df.to_excel(r'matches_details.xlsx', index=False)"
   ]
  }
 ],
 "metadata": {
  "kernelspec": {
   "display_name": "Python 3",
   "language": "python",
   "name": "python3"
  },
  "language_info": {
   "codemirror_mode": {
    "name": "ipython",
    "version": 3
   },
   "file_extension": ".py",
   "mimetype": "text/x-python",
   "name": "python",
   "nbconvert_exporter": "python",
   "pygments_lexer": "ipython3",
   "version": "3.10.0"
  }
 },
 "nbformat": 4,
 "nbformat_minor": 2
}
